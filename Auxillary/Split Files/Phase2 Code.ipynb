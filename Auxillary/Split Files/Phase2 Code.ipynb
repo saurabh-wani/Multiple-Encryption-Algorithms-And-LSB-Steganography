{
 "cells": [
  {
   "cell_type": "code",
   "execution_count": null,
   "id": "7c685f3f",
   "metadata": {},
   "outputs": [],
   "source": [
    "class SplitFile:\n",
    "    #random number genrator = n\n",
    "    #Split file into n files (two seprate functions for image and text files)\n",
    "    #file naming convension\n",
    "    #pass files to Multiple Encryption class\n",
    "    pass\n",
    "    \n",
    "class MultipleEncryption:\n",
    "    #take random number genrated in split file & splited files class as inputs\n",
    "    #Encrypt each file with any encryption algorithm selected randomly\n",
    "    #pass the encrypted files as output\n",
    "    #pass encryption information to ImgSteganography class\n",
    "    pass\n",
    "    \n",
    "class ImgSteganography:\n",
    "    #take encryption information as input\n",
    "    #select any image present in Inventory\n",
    "    #Hide the encryption info in Image using Image Steganography\n",
    "    #pass the Image as Output\n",
    "    pass\n",
    "    \n",
    "class DecryptFile:\n",
    "    #take mutiple encrypted files and updated image as input\n",
    "    #retrive info from updated image\n",
    "    #Decrypt Files using info\n",
    "    #Merge Decrypted files in sequence to get original file(text/Image)\n",
    "    pass"
   ]
  },
  {
   "cell_type": "code",
   "execution_count": null,
   "id": "4c2073e9",
   "metadata": {},
   "outputs": [],
   "source": []
  },
  {
   "cell_type": "code",
   "execution_count": null,
   "id": "d68ff1a1",
   "metadata": {},
   "outputs": [],
   "source": []
  },
  {
   "cell_type": "code",
   "execution_count": null,
   "id": "e57927d1",
   "metadata": {},
   "outputs": [],
   "source": [
    "\n",
    "# Python program to count the \n",
    "# number of lines in a text file\n",
    "  \n",
    "  \n",
    "# Opening a file\n",
    "file = open(\"big_file.txt\",\"r\")\n",
    "Counter = 0\n",
    "  \n",
    "# Reading from file\n",
    "Content = file.read()\n",
    "CoList = Content.split(\"\\n\")\n",
    "  \n",
    "for i in CoList:\n",
    "    if i:\n",
    "        Counter += 1\n",
    "          \n",
    "print(\"This is the number of lines in the file\")\n",
    "print(Counter)"
   ]
  },
  {
   "cell_type": "code",
   "execution_count": null,
   "id": "524312de",
   "metadata": {},
   "outputs": [],
   "source": [
    "lines_per_file = Counter / 4 #use random function instead of 4 for genrating random number\n",
    "smallfile = None\n",
    "with open('big_file.txt') as bigfile:\n",
    "    for lineno, line in enumerate(bigfile):\n",
    "        if lineno % lines_per_file == 0:\n",
    "            if smallfile:\n",
    "                smallfile.close()\n",
    "            small_filename = 'small_file_{}.txt'.format(int(lineno + lines_per_file))\n",
    "            smallfile = open(small_filename, \"w\")\n",
    "        smallfile.write(line)\n",
    "    if smallfile:\n",
    "        smallfile.close()"
   ]
  }
 ],
 "metadata": {
  "kernelspec": {
   "display_name": "Python 3",
   "language": "python",
   "name": "python3"
  },
  "language_info": {
   "codemirror_mode": {
    "name": "ipython",
    "version": 3
   },
   "file_extension": ".py",
   "mimetype": "text/x-python",
   "name": "python",
   "nbconvert_exporter": "python",
   "pygments_lexer": "ipython3",
   "version": "3.8.8"
  }
 },
 "nbformat": 4,
 "nbformat_minor": 5
}
