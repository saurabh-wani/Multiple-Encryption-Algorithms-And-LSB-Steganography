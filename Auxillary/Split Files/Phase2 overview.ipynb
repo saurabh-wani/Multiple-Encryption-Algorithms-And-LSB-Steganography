{
 "cells": [
  {
   "cell_type": "code",
   "execution_count": 22,
   "id": "cccb9fd1",
   "metadata": {},
   "outputs": [],
   "source": [
    "class SplitFile:\n",
    "    def __init__(self,fileLocation,filename,randomNumber):\n",
    "        self.fileLocation = fileLocation\n",
    "        self.filename = filename\n",
    "        self.randomNumber = randomNumber\n",
    "        \n",
    "        \n",
    "        extension = self.filename.split(\".\")[1]\n",
    "        imageList = [\"jpg\",\"png\",\"jppeg\"]\n",
    "        txtList = [\"txt\"]\n",
    "        \n",
    "        if extension in imageList:\n",
    "            #call function for imageSplit function\n",
    "            pass\n",
    "        \n",
    "        elif extension in txtList:\n",
    "            #call function for txtSplit function\n",
    "            SplitFile.txtSplit(self)\n",
    "    \n",
    "    def txtSplit(self):\n",
    "        file = open(self.fileLocation,\"r\")\n",
    "        Counter = 0\n",
    "  \n",
    "        # Reading from file\n",
    "        Content = file.read()\n",
    "        CoList = Content.split(\"\\n\")\n",
    "  \n",
    "        for i in CoList:\n",
    "            if i:\n",
    "                Counter += 1\n",
    "          \n",
    "        \n",
    "        \n",
    "        #print(\"This is the number of lines in the file\")\n",
    "        #print(Counter)\n",
    "        lines_per_file = Counter / self.randomNumber #use random function instead of 4 for genrating random number\n",
    "        smallfile = None\n",
    "        with open('big_file.txt') as bigfile:\n",
    "            for lineno, line in enumerate(bigfile):\n",
    "                if lineno % lines_per_file == 0:\n",
    "                    if smallfile:\n",
    "                        smallfile.close()\n",
    "                    \n",
    "                    small_filename = 'small_file_{}.txt'.format(abs(int(lineno + lines_per_file)))\n",
    "                    smallfile = open(small_filename, \"w\")\n",
    "                    \n",
    "                smallfile.write(line)\n",
    "                \n",
    "            if smallfile:\n",
    "                smallfile.close()\n",
    "            \n",
    "'''  \n",
    "#Opening a file\n",
    "file = open(\"big_file.txt\",\"r\")\n",
    "Counter = 0\n",
    "  \n",
    "# Reading from file\n",
    "Content = file.read()\n",
    "CoList = Content.split(\"\\n\")\n",
    "  \n",
    "for i in CoList:\n",
    "    if i:\n",
    "        Counter += 1\n",
    "          \n",
    "print(\"This is the number of lines in the file\")\n",
    "print(Counter)'''\n",
    "            \n",
    "    #random number genrator = n\n",
    "    #Split file into n files (two seprate functions for image and text files)\n",
    "    #file naming convension\n",
    "    #pass files to Multiple Encryption class\n",
    "    \n",
    "    \n",
    "class MultipleEncryption:\n",
    "    #take random number genrated in split file & splited files class as inputs\n",
    "    #Encrypt each file with any encryption algorithm selected randomly\n",
    "    #pass the encrypted files as output\n",
    "    #pass encryption information to ImgSteganography class\n",
    "    pass\n",
    "    \n",
    "class ImgSteganography:\n",
    "    #take encryption information as input\n",
    "    #select any image present in Inventory\n",
    "    #Hide the encryption info in Image using Image Steganography\n",
    "    #pass the Image as Output\n",
    "    pass\n",
    "    \n",
    "class DecryptFile:\n",
    "    #take mutiple encrypted files and updated image as input\n",
    "    #retrive info from updated image\n",
    "    #Decrypt Files using info\n",
    "    #Merge Decrypted files in sequence to get original file(text/Image)\n",
    "    pass\n",
    "    \n",
    "    \n",
    "\n",
    "\n",
    "    \n",
    "\n",
    "    \n",
    "\n",
    "    \n",
    "    \n",
    "# main function\n",
    "import numpy as np\n",
    "randomNumber = np.random.randint(2,6)\n",
    "\n",
    "spl1 = SplitFile(\"big_file.txt\",\"big_file.txt\",randomNumber)"
   ]
  },
  {
   "cell_type": "code",
   "execution_count": null,
   "id": "3d163e32",
   "metadata": {},
   "outputs": [],
   "source": []
  },
  {
   "cell_type": "code",
   "execution_count": 2,
   "id": "0044a87b",
   "metadata": {},
   "outputs": [
    {
     "name": "stdout",
     "output_type": "stream",
     "text": [
      "jpg\n"
     ]
    }
   ],
   "source": [
    "filename = \"photo.jpg\"       \n",
    "extension = filename.split(\".\")[1]\n",
    "print(extension)"
   ]
  },
  {
   "cell_type": "code",
   "execution_count": 7,
   "id": "b7e2dbae",
   "metadata": {},
   "outputs": [
    {
     "name": "stdout",
     "output_type": "stream",
     "text": [
      "3\n"
     ]
    }
   ],
   "source": [
    "import numpy as np\n",
    "randomNumber = np.random.randint(2,6)\n",
    "print(randomNumber)"
   ]
  },
  {
   "cell_type": "code",
   "execution_count": null,
   "id": "0d9f4c0b",
   "metadata": {},
   "outputs": [],
   "source": []
  },
  {
   "cell_type": "code",
   "execution_count": null,
   "id": "680d0511",
   "metadata": {},
   "outputs": [],
   "source": []
  }
 ],
 "metadata": {
  "kernelspec": {
   "display_name": "Python 3",
   "language": "python",
   "name": "python3"
  },
  "language_info": {
   "codemirror_mode": {
    "name": "ipython",
    "version": 3
   },
   "file_extension": ".py",
   "mimetype": "text/x-python",
   "name": "python",
   "nbconvert_exporter": "python",
   "pygments_lexer": "ipython3",
   "version": "3.8.8"
  }
 },
 "nbformat": 4,
 "nbformat_minor": 5
}
